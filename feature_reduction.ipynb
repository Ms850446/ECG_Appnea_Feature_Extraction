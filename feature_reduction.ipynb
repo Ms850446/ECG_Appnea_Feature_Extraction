{
 "cells": [
  {
   "cell_type": "markdown",
   "metadata": {},
   "source": [
    "# feature reduction "
   ]
  },
  {
   "cell_type": "code",
   "execution_count": 7,
   "metadata": {},
   "outputs": [],
   "source": [
    "import numpy as np \n",
    "import pandas as pd \n",
    "import matplotlib.pyplot as plt\n",
    "from sklearn.preprocessing import StandardScaler , LabelEncoder\n",
    "from sklearn.metrics import accuracy_score, confusion_matrix, precision_score, recall_score, ConfusionMatrixDisplay\n",
    "from scipy.stats import randint  \n",
    "from sklearn.decomposition import PCA"
   ]
  },
  {
   "cell_type": "code",
   "execution_count": 10,
   "metadata": {},
   "outputs": [
    {
     "name": "stdout",
     "output_type": "stream",
     "text": [
      "(17023, 10)\n",
      "(17023, 5)\n",
      "            PC1       PC2       PC3       PC4       PC5\n",
      "0     -0.344156 -0.333518  0.251229 -0.533493  0.457623\n",
      "1     -0.228298 -0.560275  0.224966 -0.606860  0.346459\n",
      "2     -0.145278 -0.615409  0.172663 -0.506833  0.371723\n",
      "3     -0.005613 -0.826381  0.098636 -0.348944  0.367003\n",
      "4     -0.103293 -0.858094  0.163411 -0.460812  0.320879\n",
      "...         ...       ...       ...       ...       ...\n",
      "17018 -0.545679 -0.645267  0.330462 -0.388973  0.480195\n",
      "17019 -1.172259  0.316889  0.648917 -0.856341  0.632414\n",
      "17020 -1.019909 -0.013219  0.594186 -0.802374  0.543973\n",
      "17021 -1.009635  0.060788  0.542581 -0.665054  0.603131\n",
      "17022 -0.989695  3.393090 -0.228164  2.331895  3.196609\n",
      "\n",
      "[17023 rows x 5 columns]\n",
      "explained_variance: [0.33080106 0.19490018 0.12373405 0.11143858 0.0907696 ]\n"
     ]
    },
    {
     "data": {
      "image/png": "[encoded data removed]",
      "text/plain": [
       "<Figure size 432x288 with 1 Axes>"
      ]
     },
     "metadata": {
      "needs_background": "light"
     },
     "output_type": "display_data"
    }
   ],
   "source": [
    "# dataset\n",
    "dataset = pd.read_csv('cleaned data after select features.csv')\n",
    "# distributing the dataset into two components X and Y\n",
    "X = dataset.iloc[:, 0:17000].values\n",
    "y = dataset.iloc[:, 9].values\n",
    "print(X.shape)\n",
    "#performing preprocessing part\n",
    "sc = StandardScaler()\n",
    "X = sc.fit_transform(X)\n",
    "le = LabelEncoder()\n",
    "y = le.fit_transform(y)\n",
    "# Applying PCA function on training\n",
    "# and testing set of X component\n",
    "pca = PCA(n_components = 5)\n",
    "X = pca.fit_transform(X)\n",
    "print(X.shape)\n",
    "# Convert numpy arrays to pandas DataFrame\n",
    "X_df = pd.DataFrame(X, columns=['PC1', 'PC2','PC3','PC4','PC5'])\n",
    "# Print the columns of X DataFrame\n",
    "print(X_df)\n",
    "# Print the variance explained by each principal component\n",
    "explained_variance = pca.explained_variance_ratio_\n",
    "print('explained_variance: ' + str(explained_variance))\n",
    "# Plot the transformed data first 2 columns with the highest variance\n",
    "import matplotlib.pyplot as plt\n",
    "plt.scatter(X[:, 0], X[:, 1], c=y)\n",
    "plt.xlabel('PC1')\n",
    "plt.ylabel('PC2')\n",
    "plt.show()\n",
    "# saving the dataframe into a csv file\n",
    "X_df.to_csv('features_after_reduction.csv')"
   ]
  },
  {
   "cell_type": "code",
   "execution_count": null,
   "metadata": {},
   "outputs": [],
   "source": []
  }
 ],
 "metadata": {
  "kernelspec": {
   "display_name": "Python 3 (ipykernel)",
   "language": "python",
   "name": "python3"
  },
  "language_info": {
   "codemirror_mode": {
    "name": "ipython",
    "version": 3
   },
   "file_extension": ".py",
   "mimetype": "text/x-python",
   "name": "python",
   "nbconvert_exporter": "python",
   "pygments_lexer": "ipython3",
   "version": "3.8.12"
  },
  "vscode": {
   "interpreter": {
    "hash": "213524bb45a1aeaf737b1d8c77d7b8db5d425938d9dffc5f4bc6fe6dd3324700"
   }
  }
 },
 "nbformat": 4,
 "nbformat_minor": 2
}
